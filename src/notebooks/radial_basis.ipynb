{
 "cells": [
  {
   "cell_type": "code",
   "execution_count": 14,
   "metadata": {},
   "outputs": [],
   "source": [
    "import sys\n",
    "# append the path of the parent directory\n",
    "# sys.path.append(\"..\")\n",
    "sys.path[0] += \"/../..\"\n",
    "\n",
    "from src.files.utils.utility_functions import *\n",
    "import sys\n",
    "import torch.nn as nn\n",
    "from src.files.utils.dataset_creator import *\n",
    "from src.files.classes.neural_models import *\n",
    "# from src.files.neural_ransac import RModel, NeuralRansac\n",
    "from sklearn.datasets import make_blobs, make_circles"
   ]
  },
  {
   "cell_type": "code",
   "execution_count": 15,
   "metadata": {},
   "outputs": [],
   "source": [
    "def get_distance(x1, x2):\n",
    "    if isinstance(x1, torch.Tensor): x1 = x1.detach().numpy()\n",
    "    if isinstance(x2, torch.Tensor): x2 = x2.detach().numpy()\n",
    "    return np.sqrt(np.sum((x1-x2)**2))\n",
    "\n",
    "\n",
    "class RBF:\n",
    "\n",
    "    def __init__(self, x, k, gamma=1):\n",
    "        self.X = x\n",
    "        self.K = k\n",
    "        self.gammas = [np.random.uniform() for _ in range(self.K)]\n",
    "\n",
    "        self.weights = None\n",
    "        self.centers = None\n",
    "\n",
    "    def kernel(self, point, center, i):\n",
    "        return np.exp(-self.gammas[i] * np.linalg.norm(point-center)**2)    \n",
    "    \n",
    "    def find_centers(self, max_iters):\n",
    "        # centroids = self.X[np.random.choice(range(len(self.X)), self.K, replace=False)]\n",
    "        centroids = np.random.uniform(-2, 2, (self.K, self.X.shape[1]))\n",
    "        converged = False\n",
    "        curr_it = 0\n",
    "        \n",
    "        while (not converged) and (curr_it < max_iters):\n",
    "            cluster_list = [[] for i, _ in enumerate(centroids)]\n",
    "\n",
    "            for x in self.X:\n",
    "                distances = [get_distance(c, x) for c in centroids]\n",
    "                cluster_list[int(np.argmin(distances))].append(x)\n",
    "\n",
    "            cluster_list = list(filter(None, cluster_list))\n",
    "            prev_centroids = centroids.copy()\n",
    "\n",
    "            centroids = [np.mean(cluster_list[j], axis=0) for j, _ in enumerate(cluster_list)]\n",
    "            pattern = np.abs(np.sum(prev_centroids) - np.sum(centroids))\n",
    "\n",
    "            # print(\"K-means: \", int(pattern))\n",
    "            converged = (pattern == 0)\n",
    "\n",
    "            curr_it += 1\n",
    "        self.centers = np.array(centroids)\n",
    "        print(f\"# centers: {len(self.centers)}\")\n",
    "        return np.array(centroids), [np.std(x) for x in cluster_list]\n",
    "\n",
    "    def find_weights(self):\n",
    "        centers = self.find_centers(1000000)[0] if self.centers is None else self.centers\n",
    "        phi = np.array([[self.kernel(point, center, i) for i, center in enumerate(centers)] for point in self.X])\n",
    "        denom = np.linalg.inv((phi.T @ phi))\n",
    "        w = denom @ phi.T @ self.X\n",
    "        self.weights = w\n",
    "        return w\n",
    "    \n",
    "    def predict(self):\n",
    "        weights = self.find_weights() if self.weights is None else self.weights\n",
    "\n",
    "        res = np.zeros(self.X.shape)\n",
    "        for i, point in enumerate(self.X):\n",
    "            for j, center in enumerate(self.centers):\n",
    "                res[i] += weights[j] * self.kernel(point, center, j)\n",
    "        return res"
   ]
  },
  {
   "cell_type": "code",
   "execution_count": 23,
   "metadata": {},
   "outputs": [],
   "source": [
    "import copy\n",
    "\n",
    "\n",
    "def find_centers(X, K, max_iters=1000):\n",
    "    # centroids = self.X[np.random.choice(range(len(self.X)), self.K, replace=False)]\n",
    "    centroids = np.random.uniform(-2, 2, (K, X.shape[1]))\n",
    "    converged = False\n",
    "    curr_it = 0\n",
    "    \n",
    "    while (not converged) and (curr_it < max_iters):\n",
    "        cluster_list = [[] for i, _ in enumerate(centroids)]\n",
    "\n",
    "        for x in X:\n",
    "            distances = [get_distance(c, x) for c in centroids]\n",
    "            cluster_list[int(np.argmin(distances))].append(x)\n",
    "\n",
    "        cluster_list = list(filter(None, cluster_list))\n",
    "        prev_centroids = centroids.copy()\n",
    "\n",
    "        centroids = [np.mean(cluster_list[j], axis=0) for j, _ in enumerate(cluster_list)]\n",
    "        pattern = np.abs(np.sum(prev_centroids) - np.sum(centroids))\n",
    "\n",
    "        # print(\"K-means: \", int(pattern))\n",
    "        converged = (pattern == 0)\n",
    "\n",
    "        curr_it += 1\n",
    "\n",
    "    print(f\"# centers: {len(centroids)}\")\n",
    "    return np.array(centroids), [np.std(x) for x in cluster_list]\n",
    "\n",
    "# Hidden's weights (gammas): vector of size Kx1, in which are stored the gammas of the Gaussian functions (learnable parameter)\n",
    "# Output's weights:          vector of weights dxK, in which are stored the weights of the linear output\n",
    "# k is the number of clusters, d is the number of dimensions of the input\n",
    "\n",
    "class GaussianKernel(nn.Module):\n",
    "\n",
    "    def __init__(self, centers):\n",
    "        super(GaussianKernel, self).__init__()\n",
    "        self.centers = torch.FloatTensor(centers)\n",
    "        self.gammas = nn.Parameter(torch.randn((len(centers),), requires_grad=True))\n",
    "        self.gammas.requiresGrad = True\n",
    "        nn.init.normal_(self.gammas.data, std=0.05)\n",
    "\n",
    "    def forward(self, x):\n",
    "        #assert x.shape[1] == self.centers.shape[1]\n",
    "        res = [torch.exp(-self.gammas * torch.linalg.norm(el - self.centers, dim=1)**2) for el in x]\n",
    "        # print(res)\n",
    "        return torch.stack(res)\n",
    "\n",
    "class RBFNetwork(nn.Module):\n",
    "\n",
    "    def __init__(self, centers, alpha=0.2):\n",
    "        super(RBFNetwork, self).__init__()\n",
    "        self.k = len(centers)\n",
    "        self.centers = centers\n",
    "        self.alpha = alpha\n",
    "\n",
    "        self.hidden = GaussianKernel(self.centers)\n",
    "        self.weights = None\n",
    "        # self.output = nn.Linear(self.k, 2, bias=False)\n",
    "\n",
    "    def forward(self, x):\n",
    "        x = self.hidden(x)\n",
    "        x2 = x @ self.weights\n",
    "        # x2 = self.output(x)\n",
    "        return x2\n",
    "\n",
    "\n",
    "    def fit(self, X, y, epochs=1, lr=1e-4, bs=8):\n",
    "        X = torch.FloatTensor(X)\n",
    "        y = torch.FloatTensor(y)\n",
    "        # linear_optimizer = torch.optim.SGD(self.output.parameters(), lr)\n",
    "        gammas_optimizer = torch.optim.Adagrad(self.hidden.parameters(), lr)#, weight_decay=0.5)\n",
    "\n",
    "        loss_func = torch.nn.MSELoss(reduction=\"mean\")\n",
    "\n",
    "        loader = Data.DataLoader(\n",
    "            dataset=Data.TensorDataset(X, y),\n",
    "            batch_size=bs,\n",
    "            shuffle=True,\n",
    "            num_workers=8,\n",
    "        )\n",
    "\n",
    "        # self.hidden.train(True)\n",
    "        # self.output.train(True)\n",
    "\n",
    "        # each epoch is run twice: 1 run to optimize W with Gamma fixed,\n",
    "        # the other run to optimize Gamma with W fixed\n",
    "        for step in range(epochs):\n",
    "            sys.stdout.write(f\"Epoch {step+1}:\\t[\")\n",
    "            \n",
    "            loss_counter = 0\n",
    "            # weights_before = copy.deepcopy(self.output)\n",
    "            gammas_before = copy.deepcopy(self.hidden)\n",
    "\n",
    "            # compute the weights in closed form\n",
    "            # alpha * I is needed for Ridge Regression \n",
    "\n",
    "            phi = self.hidden(X)\n",
    "            # print(phi.shape)\n",
    "            K = phi @ phi.T\n",
    "\n",
    "            a = torch.linalg.inv((K + self.alpha*torch.eye(K.shape[0]))) @ y\n",
    "            self.weights = phi.T @ a\n",
    "\n",
    "            # denom = torch.linalg.inv(self.alpha * torch.eye(phi.shape[1]) + phi.T @ phi)\n",
    "            # self.weights = denom @ phi.T @ y\n",
    "\n",
    "            self.weights.requiresGrad = False\n",
    "\n",
    "            # print(self.weights.shape)\n",
    "            # self.output.weight = weights\n",
    "\n",
    "            for i, (b_x, b_y) in enumerate(loader):\n",
    "                # sys.stdout.write(f\"=\")\n",
    "                # sys.stdout.flush()\n",
    "                # even num of steps --> weights\n",
    "                #if step % 2 == 0:\n",
    "                #    # self.hidden.train(False)\n",
    "                #    # self.output.train(True)\n",
    "#\n",
    "                #    linear_optimizer.zero_grad()\n",
    "#\n",
    "                #    prediction = self(b_x)\n",
    "                #    loss = loss_func(prediction, b_y)\n",
    "#\n",
    "                #    penalization = self.alpha * torch.norm(self.output.weight)\n",
    "                #    loss_counter += loss.item() + penalization\n",
    "                #    loss.backward()\n",
    "#\n",
    "                #    weights_before = copy.deepcopy(self.output)\n",
    "                #    linear_optimizer.step()\n",
    "                #    # print(\"DIFFERENCE (weights): \", weights_before.weight - self.output.weight)\n",
    "                #else:\n",
    "                    # self.hidden.train(True)\n",
    "                    # self.output.train(False)\n",
    "\n",
    "                gammas_optimizer.zero_grad()\n",
    "\n",
    "                prediction = self(b_x)\n",
    "                loss = loss_func(prediction, b_y)\n",
    "\n",
    "                penalization = self.alpha * torch.norm(self.hidden.gammas)\n",
    "                loss_counter += loss.item()# + penalization\n",
    "                loss.backward(retain_graph=True)\n",
    "                \n",
    "                # gammas_before = copy.deepcopy(self.hidden)\n",
    "                gammas_optimizer.step()\n",
    "                # print(\"DIFFERENCE (gammas): \", gammas_before.gammas - self.hidden.gammas)\n",
    "            # sys.stdout.write(\"]\")\n",
    "            # sys.stdout.write(f\"\\t({i}/{len(X) // bs})\\t\")\n",
    "            # sys.stdout.write(f\"MeanLoss: {(loss_counter / len(X)):.6f}\\n\")\n",
    "\n",
    "            # if step % 10 == 0:\n",
    "            #     print(\"\\nStep #\", step)\n",
    "            #     if step % 2 == 0: print(\"Updating weights\") \n",
    "            #     else: print(\"Updating gammas\")\n",
    "            #     print(\"Loss counter: \", loss_counter)\n",
    "            #     print(\"Loss: \", loss)\n",
    "            #     print(\"Weights: \", weights_before.weight - self.output.weight)\n",
    "            #     print(\"Gammas: \", gammas_before.gammas - self.hidden.gammas)\n",
    "            #     print()"
   ]
  },
  {
   "cell_type": "code",
   "execution_count": 24,
   "metadata": {},
   "outputs": [
    {
     "name": "stdout",
     "output_type": "stream",
     "text": [
      "# centers: 1\n",
      "Epoch 1:\t[Epoch 2:\t[Epoch 3:\t[Epoch 4:\t[Epoch 5:\t[Epoch 6:\t[Epoch 7:\t[Epoch 8:\t[Epoch 9:\t[Epoch 10:\t[Epoch 11:\t[Epoch 12:\t[Epoch 13:\t[Epoch 14:\t[Epoch 15:\t[Epoch 16:\t[Epoch 17:\t[Epoch 18:\t[Epoch 19:\t[Epoch 20:\t[Epoch 21:\t[Epoch 22:\t[Epoch 23:\t[Epoch 24:\t[Epoch 25:\t[Epoch 26:\t[Epoch 27:\t[Epoch 28:\t[Epoch 29:\t[Epoch 30:\t[Epoch 31:\t[Epoch 32:\t[Epoch 33:\t[Epoch 34:\t[Epoch 35:\t[Epoch 36:\t[Epoch 37:\t[Epoch 38:\t[Epoch 39:\t[Epoch 40:\t[Epoch 41:\t[Epoch 42:\t[Epoch 43:\t[Epoch 44:\t[Epoch 45:\t[Epoch 46:\t[Epoch 47:\t[Epoch 48:\t[Epoch 49:\t[Epoch 50:\t[Epoch 51:\t[Epoch 52:\t[Epoch 53:\t[Epoch 54:\t[Epoch 55:\t[Epoch 56:\t[Epoch 57:\t[Epoch 58:\t[Epoch 59:\t[Epoch 60:\t[Epoch 61:\t[Epoch 62:\t[Epoch 63:\t[Epoch 64:\t[Epoch 65:\t[Epoch 66:\t[Epoch 67:\t[Epoch 68:\t[Epoch 69:\t[Epoch 70:\t[Epoch 71:\t[Epoch 72:\t[Epoch 73:\t[Epoch 74:\t[Epoch 75:\t[Epoch 76:\t[Epoch 77:\t[Epoch 78:\t[Epoch 79:\t[Epoch 80:\t[Epoch 81:\t[Epoch 82:\t[Epoch 83:\t[Epoch 84:\t[Epoch 85:\t[Epoch 86:\t[Epoch 87:\t[Epoch 88:\t[Epoch 89:\t[Epoch 90:\t[Epoch 91:\t[Epoch 92:\t[Epoch 93:\t[Epoch 94:\t[Epoch 95:\t[Epoch 96:\t[Epoch 97:\t[Epoch 98:\t[Epoch 99:\t[Epoch 100:\t["
     ]
    }
   ],
   "source": [
    "torch.autograd.set_detect_anomaly(True)\n",
    "\n",
    "#ds, lbs, centroids = make_blobs(n_samples=300, return_centers=True)\n",
    "ds, gt = create_dataset_parabola(200, a_s=[1], centers=[(2, 2)], rot_angle=[90], outliers_fraction=0.5)\n",
    "#ds = create_dataset_circle(300, fraction=0.4)\n",
    "# ds = create_square(num_points=300)\n",
    "ds = normalize_points(ds)\n",
    "\n",
    "centers = find_centers(X=ds, K=1)[0]\n",
    "rbf = RBFNetwork(centers)\n",
    "\n",
    "ds = torch.FloatTensor(ds)\n",
    "\n",
    "rbf.fit(X=ds, y=ds, epochs=100, lr=1e-2)"
   ]
  },
  {
   "cell_type": "markdown",
   "metadata": {},
   "source": [
    "#ds, lbs, centroids = make_blobs(n_samples=300, return_centers=True)\n",
    "#ds = create_dataset_parabola(200, 1, 0, 0, outliers=100)\n",
    "ds = create_dataset_circle(300, inlier_fraction=0.4)\n",
    "# ds = create_square(n_points=300)\n",
    "ds = normalize_points(ds)\n",
    "\n",
    "epsilon = 0.5\n",
    "samples = ds[np.random.randint(len(ds), size=(10,))]\n",
    "\n",
    "centers = find_centers(X=samples, K=10)[0]\n",
    "rbf = RBFNetwork(alpha=0.5, centers=centers)\n",
    "\n",
    "rbf.fit(samples, samples, epochs=20)\n",
    "\n",
    "consensus = []\n",
    "for el in ds:\n",
    "    error = get_distance(rbf(el), el)\n",
    "    if error**2 < epsilon**2:\n",
    "        consensus.append(torch.FloatTensor(el))\n",
    "\n",
    "consensus = torch.stack(consensus)\n",
    "\n",
    "print(f\"Consensus: {consensus.shape}\")\n",
    "\n",
    "rbf.fit(consensus, consensus, epochs=20)"
   ]
  },
  {
   "cell_type": "code",
   "execution_count": 25,
   "metadata": {},
   "outputs": [
    {
     "name": "stdout",
     "output_type": "stream",
     "text": [
      "(200, 2)\n"
     ]
    },
    {
     "data": {
      "text/plain": [
       "<matplotlib.legend.Legend at 0x7f47509d7130>"
      ]
     },
     "execution_count": 25,
     "metadata": {},
     "output_type": "execute_result"
    },
    {
     "data": {
      "image/png": "[encoded data removed]",
      "text/plain": [
       "<Figure size 600x400 with 1 Axes>"
      ]
     },
     "metadata": {
      "needs_background": "light"
     },
     "output_type": "display_data"
    }
   ],
   "source": [
    "preds = rbf(torch.FloatTensor(ds)).detach().numpy()\n",
    "\n",
    "# preds = torch.FloatTensor(list(filter(lambda x: -5 <= x[0] <= 5 and -5 <= x[1] <= 5, preds)))\n",
    "\n",
    "points = torch.FloatTensor(10, 2).uniform_(-5, 5)\n",
    "points_preds = rbf(points).detach().numpy()\n",
    "points = points.detach().numpy()\n",
    "\n",
    "print(preds.shape)\n",
    "\n",
    "fig = plt.figure(dpi=100)\n",
    "plt.scatter(ds[:,0], ds[:,1])\n",
    "plt.scatter(preds[:,0], preds[:,1], label=\"Preds\")\n",
    "plt.scatter(centers[:,0], centers[:,1], label=\"Centers\")\n",
    "# plt.scatter(points[:,0], points[:,1], label=\"Points\")\n",
    "# plt.scatter(points_preds[:,0], points_preds[:,1], label=\"PPreds\")\n",
    "plt.legend()"
   ]
  },
  {
   "cell_type": "code",
   "execution_count": 19,
   "metadata": {},
   "outputs": [
    {
     "data": {
      "text/plain": [
       "Parameter containing:\n",
       "tensor([0.2035], requires_grad=True)"
      ]
     },
     "execution_count": 19,
     "metadata": {},
     "output_type": "execute_result"
    }
   ],
   "source": [
    "rbf.hidden.gammas"
   ]
  },
  {
   "cell_type": "code",
   "execution_count": 20,
   "metadata": {},
   "outputs": [
    {
     "data": {
      "text/plain": [
       "tensor([[ 0.2964, -0.0101]], grad_fn=<MmBackward>)"
      ]
     },
     "execution_count": 20,
     "metadata": {},
     "output_type": "execute_result"
    }
   ],
   "source": [
    "rbf.weights"
   ]
  },
  {
   "cell_type": "code",
   "execution_count": 21,
   "metadata": {},
   "outputs": [
    {
     "ename": "NameError",
     "evalue": "name 'RModel' is not defined",
     "output_type": "error",
     "traceback": [
      "\u001b[0;31m---------------------------------------------------------------------------\u001b[0m",
      "\u001b[0;31mNameError\u001b[0m                                 Traceback (most recent call last)",
      "\u001b[0;32m/tmp/ipykernel_57034/4089171417.py\u001b[0m in \u001b[0;36m<module>\u001b[0;34m\u001b[0m\n\u001b[1;32m      1\u001b[0m \u001b[0;32mif\u001b[0m \u001b[0;32mTrue\u001b[0m\u001b[0;34m:\u001b[0m\u001b[0;34m\u001b[0m\u001b[0;34m\u001b[0m\u001b[0m\n\u001b[0;32m----> 2\u001b[0;31m     \u001b[0mmodel\u001b[0m \u001b[0;34m=\u001b[0m \u001b[0mRModel\u001b[0m\u001b[0;34m(\u001b[0m\u001b[0;34m)\u001b[0m\u001b[0;34m\u001b[0m\u001b[0;34m\u001b[0m\u001b[0m\n\u001b[0m\u001b[1;32m      3\u001b[0m     \u001b[0mtrain_model\u001b[0m\u001b[0;34m(\u001b[0m\u001b[0miterations\u001b[0m\u001b[0;34m=\u001b[0m\u001b[0;36m100\u001b[0m\u001b[0;34m,\u001b[0m \u001b[0mdata\u001b[0m\u001b[0;34m=\u001b[0m\u001b[0mds\u001b[0m\u001b[0;34m,\u001b[0m \u001b[0mmodel\u001b[0m\u001b[0;34m=\u001b[0m\u001b[0mmodel\u001b[0m\u001b[0;34m)\u001b[0m\u001b[0;34m\u001b[0m\u001b[0;34m\u001b[0m\u001b[0m\n\u001b[1;32m      4\u001b[0m     \u001b[0mpreds\u001b[0m \u001b[0;34m=\u001b[0m \u001b[0mmodel\u001b[0m\u001b[0;34m(\u001b[0m\u001b[0mtorch\u001b[0m\u001b[0;34m.\u001b[0m\u001b[0mFloatTensor\u001b[0m\u001b[0;34m(\u001b[0m\u001b[0mds\u001b[0m\u001b[0;34m)\u001b[0m\u001b[0;34m)\u001b[0m\u001b[0;34m.\u001b[0m\u001b[0mdetach\u001b[0m\u001b[0;34m(\u001b[0m\u001b[0;34m)\u001b[0m\u001b[0;34m.\u001b[0m\u001b[0mnumpy\u001b[0m\u001b[0;34m(\u001b[0m\u001b[0;34m)\u001b[0m\u001b[0;34m\u001b[0m\u001b[0;34m\u001b[0m\u001b[0m\n",
      "\u001b[0;31mNameError\u001b[0m: name 'RModel' is not defined"
     ]
    }
   ],
   "source": [
    "if True:\n",
    "    model = RModel()\n",
    "    train_model(iterations=100, data=ds, model=model)\n",
    "    preds = model(torch.FloatTensor(ds)).detach().numpy()"
   ]
  },
  {
   "cell_type": "code",
   "execution_count": null,
   "metadata": {},
   "outputs": [
    {
     "data": {
      "text/plain": [
       "<matplotlib.legend.Legend at 0x7f97bbe26a00>"
      ]
     },
     "execution_count": 9,
     "metadata": {},
     "output_type": "execute_result"
    },
    {
     "data": {
      "image/png": "[encoded data removed]",
      "text/plain": [
       "<Figure size 576x396 with 1 Axes>"
      ]
     },
     "metadata": {},
     "output_type": "display_data"
    }
   ],
   "source": [
    "plt.scatter(ds[:,0], ds[:,1])\n",
    "# plt.scatter(res[:,0], res[:,1], label=\"RBF\")\n",
    "plt.scatter(preds[:,0], preds[:,1], label=\"NN\")\n",
    "plt.scatter(rbf.centers[:,0], rbf.centers[:,1], label=\"Centers\")\n",
    "plt.legend()"
   ]
  }
 ],
 "metadata": {
  "interpreter": {
   "hash": "d61e67d4406f83661a218a7594034be74564666d0640d3900a3e99845865d0f0"
  },
  "kernelspec": {
   "display_name": "Python 3.8.12 ('torch')",
   "language": "python",
   "name": "python3"
  },
  "language_info": {
   "codemirror_mode": {
    "name": "ipython",
    "version": 3
   },
   "file_extension": ".py",
   "mimetype": "text/x-python",
   "name": "python",
   "nbconvert_exporter": "python",
   "pygments_lexer": "ipython3",
   "version": "3.8.12"
  },
  "orig_nbformat": 4
 },
 "nbformat": 4,
 "nbformat_minor": 2
}
