{
 "cells": [
  {
   "cell_type": "code",
   "execution_count": 30,
   "metadata": {},
   "outputs": [],
   "source": [
    "import numpy as np\n",
    "import matplotlib.pyplot as plt\n",
    "from files.functions.results_extractors import *\n",
    "import seaborn as sns\n",
    "sns.set()\n",
    "plt.rcParams.update({\n",
    "    \"text.usetex\": True,\n",
    "    \"font.family\": \"sans-serif\",\n",
    "    \"font.serif\": [\"Palatino\"]})"
   ]
  },
  {
   "cell_type": "code",
   "execution_count": 31,
   "metadata": {},
   "outputs": [],
   "source": [
    "def isfloat(s):\n",
    "    try:\n",
    "        float(s)\n",
    "        return True\n",
    "    except:\n",
    "        return False"
   ]
  },
  {
   "cell_type": "code",
   "execution_count": 32,
   "metadata": {},
   "outputs": [],
   "source": [
    "def get_thresholds_aucs(dic):\n",
    "    thresholds, aucs = [], []\n",
    "    for threshold, dict3 in dic.items():\n",
    "        if isfloat(threshold):\n",
    "            thresholds.append(float(threshold))\n",
    "            aucs.append(dict3['roc_auc'])\n",
    "\n",
    "    idxs = np.argsort(thresholds)\n",
    "    thresholds = np.array(thresholds)[idxs]\n",
    "    aucs = np.array(aucs)[idxs]\n",
    "    return np.dstack((thresholds, aucs))[0]"
   ]
  },
  {
   "cell_type": "code",
   "execution_count": 33,
   "metadata": {},
   "outputs": [],
   "source": [
    "base_path = r\"/home/catonz/Neural-PreferenceIsolation/server/results/ae_24142/\"\n",
    "\n",
    "def make_aucs_thresholds_plots(base_path, to_plot=False, to_save=False):\n",
    "    dirs = [p for p in os.listdir(base_path) if \"test\" in p]\n",
    "    params_results = np.array([[read_dict_json(path=joinpath(base_path, d, \"parameters.json\")), extract_results_models(joinpath(base_path, d))] for d in dirs])\n",
    "\n",
    "    # sort based on mss values. From smaller to bigger\n",
    "    params_results = params_results[np.argsort(list(map(lambda x: x[\"mss\"], params_results[:,0])))]\n",
    "\n",
    "    std_multiples = [1, 4, 7, 10, 25, 50, 100]\n",
    "    sigma = r\"$\\sigma$\"\n",
    "    psi = r\"$\\psi$\"\n",
    "    for model, dict1 in params_results[0, 1].items():\n",
    "        for ds_name, dict2 in dict1.items():\n",
    "            fig = plt.figure(dpi=100, figsize=(10, 7))\n",
    "            fig.suptitle(f\"Dataset: {ds_name.replace('_', '-')}. {sigma} = {params_results[0, 0]['datasets_std'][ds_name]}\", fontsize=20, y=0.93)\n",
    "\n",
    "            all_aucs = np.array([])\n",
    "            for params, results in params_results:\n",
    "                res = get_thresholds_aucs(results[model][ds_name])\n",
    "                thresholds, aucs = res[:,0], res[:,1]\n",
    "                plt.plot(thresholds, aucs, marker=\".\", label=f\"{psi} = {params['mss']}\", )\n",
    "                all_aucs = np.append(all_aucs, aucs)\n",
    "            \n",
    "            min_y = np.min(all_aucs)\n",
    "            max_y = np.max(all_aucs)\n",
    "\n",
    "            plt.xlabel(\"Threshold\")\n",
    "            plt.ylabel(\"AUC\")\n",
    "            plt.gca().yaxis.set_label_position(\"right\")\n",
    "\n",
    "            plt.ylim(min_y - 0.01, max_y + 0.01)\n",
    "            plt.xticks(thresholds, labels=[f\"{i}*{sigma}\" for i in std_multiples], rotation=45, fontsize=10)\n",
    "\n",
    "            plt.yticks(np.linspace(min_y, max_y, 9))\n",
    "            plt.legend(loc=\"lower right\");\n",
    "\n",
    "            if to_plot:\n",
    "                plt.show()\n",
    "            if to_save:\n",
    "                save_path = joinpath(base_path, \"ds_aucs_plots\")\n",
    "                os.makedirs(save_path, exist_ok=True)\n",
    "                fig.savefig(joinpath(save_path, f\"{ds_name}.svg\"), bbox_inches=\"tight\")\n",
    "            plt.close()"
   ]
  },
  {
   "cell_type": "code",
   "execution_count": 37,
   "metadata": {},
   "outputs": [],
   "source": [
    "base_path = r\"/home/catonz/Neural-PreferenceIsolation/server/results/ae_24142/\"\n",
    "best_ae_24142 = make_aucs_thresholds_plots(base_path)"
   ]
  },
  {
   "cell_type": "code",
   "execution_count": 35,
   "metadata": {},
   "outputs": [],
   "source": [
    "base_path = r\"/home/catonz/Neural-PreferenceIsolation/server/results/som/pif_benchmark\"\n",
    "som_55 = make_aucs_thresholds_plots(base_path)"
   ]
  },
  {
   "cell_type": "code",
   "execution_count": 36,
   "metadata": {},
   "outputs": [],
   "source": [
    " base_path = r\"/home/catonz/Neural-PreferenceIsolation/server/results/ae_2841482/\"\n",
    " best_ae_2841482 = make_aucs_thresholds_plots(base_path)"
   ]
  }
 ],
 "metadata": {
  "kernelspec": {
   "display_name": "Python 3.8.12 ('torch')",
   "language": "python",
   "name": "python3"
  },
  "language_info": {
   "codemirror_mode": {
    "name": "ipython",
    "version": 3
   },
   "file_extension": ".py",
   "mimetype": "text/x-python",
   "name": "python",
   "nbconvert_exporter": "python",
   "pygments_lexer": "ipython3",
   "version": "3.8.12"
  },
  "orig_nbformat": 4,
  "vscode": {
   "interpreter": {
    "hash": "d61e67d4406f83661a218a7594034be74564666d0640d3900a3e99845865d0f0"
   }
  }
 },
 "nbformat": 4,
 "nbformat_minor": 2
}
