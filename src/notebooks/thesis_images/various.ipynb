{
 "cells": [
  {
   "cell_type": "code",
   "execution_count": 1,
   "metadata": {},
   "outputs": [],
   "source": [
    "from files.utils.utility_functions import *\n"
   ]
  },
  {
   "cell_type": "code",
   "execution_count": 7,
   "metadata": {},
   "outputs": [
    {
     "data": {
      "image/png": "[encoded data removed]",
      "text/plain": [
       "<Figure size 504x360 with 1 Axes>"
      ]
     },
     "metadata": {},
     "output_type": "display_data"
    }
   ],
   "source": [
    "x = np.linspace(-2, 2.5, num=100)\n",
    "y = np.sin(x)*np.cos(x)\n",
    "y_n = y + np.random.normal(0, 0.1, size=(len(x)))\n",
    "\n",
    "outliers_x = np.random.uniform(-2.5, 4, size=(10))\n",
    "outliers_y = np.random.uniform(-3, 3, size=(10))\n",
    "outliers = np.dstack((outliers_x, outliers_y))[0]\n",
    "\n",
    "fig = plt.figure(figsize=(7, 5))\n",
    "ax = plt.gca()\n",
    "\n",
    "# fig.patch.set_facecolor(ax.get_facecolor())\n",
    "plt.scatter(x, y_n, label=\"Inliers\", s=10, alpha=0.8)\n",
    "# plt.plot(x, y, color=\"sandybrown\", linewidth=2, linestyle=\"--\")\n",
    "plt.scatter(outliers[:,0], outliers[:,1], label=\"Outliers\", s=20)\n",
    "# plt.scatter(o1[0], o1[1], label=\"Outlier 1\")\n",
    "# plt.scatter(o2[0], o2[1], label=\"Outlier 2\")\n",
    "# plt.scatter(o3[0], o3[1], label=\"Outlier 3\")\n",
    "plt.legend()\n",
    "fig.savefig(\"prova2.svg\", bbox_inches=\"tight\")"
   ]
  }
 ],
 "metadata": {
  "kernelspec": {
   "display_name": "Python 3.8.12 ('torch')",
   "language": "python",
   "name": "python3"
  },
  "language_info": {
   "codemirror_mode": {
    "name": "ipython",
    "version": 3
   },
   "file_extension": ".py",
   "mimetype": "text/x-python",
   "name": "python",
   "nbconvert_exporter": "python",
   "pygments_lexer": "ipython3",
   "version": "3.8.12"
  },
  "orig_nbformat": 4,
  "vscode": {
   "interpreter": {
    "hash": "d61e67d4406f83661a218a7594034be74564666d0640d3900a3e99845865d0f0"
   }
  }
 },
 "nbformat": 4,
 "nbformat_minor": 2
}
