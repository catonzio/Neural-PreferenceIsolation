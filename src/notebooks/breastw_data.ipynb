{
 "cells": [
  {
   "cell_type": "code",
   "execution_count": 2,
   "metadata": {},
   "outputs": [],
   "source": [
    "from files.utils.utility_functions import *\n",
    "from files.pif.pif import *"
   ]
  },
  {
   "cell_type": "code",
   "execution_count": 3,
   "metadata": {},
   "outputs": [
    {
     "data": {
      "text/plain": [
       "<matplotlib.legend.Legend at 0x7f02827e2fd0>"
      ]
     },
     "execution_count": 3,
     "metadata": {},
     "output_type": "execute_result"
    },
    {
     "data": {
      "image/png": "[encoded data removed]",
      "text/plain": [
       "<Figure size 432x288 with 1 Axes>"
      ]
     },
     "metadata": {
      "needs_background": "light"
     },
     "output_type": "display_data"
    }
   ],
   "source": [
    "def read_csv(path):\n",
    "    with open(path, \"r\") as f:\n",
    "        content = f.read().split(\"\\n\")\n",
    "    content = [list(map(lambda x: 1 if x==\"\\\"n\\\"\" else 0 if x==\"\\\"o\\\"\" else float(x), c.split(\",\"))) for c in content]\n",
    "    return np.array(content)\n",
    "\n",
    "\n",
    "\n",
    "path = r\"/home/catonz/Neural-PreferenceIsolation/datasets/breast-cancer-unsupervised-ad.csv\"\n",
    "\n",
    "dataset = read_csv(path)\n",
    "\n",
    "gt = dataset[:,-1]\n",
    "\n",
    "dataset = np.delete(dataset, -1, axis=1)\n",
    "\n",
    "inliers = np.where(gt == 1)\n",
    "outliers = np.where(gt == 0)\n",
    "\n",
    "plt.scatter(dataset[:,0][inliers],  dataset[:,1][inliers], label=\"Inliers\")\n",
    "plt.scatter(dataset[:,0][outliers], dataset[:,1][outliers], c=\"r\", label=\"Outliers\")\n",
    "plt.legend()"
   ]
  },
  {
   "cell_type": "code",
   "execution_count": 4,
   "metadata": {},
   "outputs": [
    {
     "data": {
      "text/plain": [
       "(367, 30)"
      ]
     },
     "execution_count": 4,
     "metadata": {},
     "output_type": "execute_result"
    }
   ],
   "source": [
    "dataset.shape"
   ]
  },
  {
   "cell_type": "code",
   "execution_count": 5,
   "metadata": {},
   "outputs": [
    {
     "data": {
      "text/plain": [
       "(357, 10)"
      ]
     },
     "execution_count": 5,
     "metadata": {},
     "output_type": "execute_result"
    }
   ],
   "source": [
    "len(np.where(gt == 1)[0]), len(np.where(gt == 0)[0])"
   ]
  },
  {
   "cell_type": "code",
   "execution_count": 29,
   "metadata": {},
   "outputs": [
    {
     "name": "stdout",
     "output_type": "stream",
     "text": [
      "Anomaly Detection\n",
      "--------------------------------------------------\n",
      "Building RanSac models\n",
      "Iteration 100/100: [==============================] (100%) ETA: 0:09:04.809258\n",
      "--------------------------------------------------\n",
      "Building preference matrix\n",
      "--------------------------------------------------\n",
      "Building Voronoi Forest\n",
      "--------------------------------------------------\n",
      "Done\n"
     ]
    }
   ],
   "source": [
    "params = {\n",
    "    \"root_path\": \"/home/catonz/Neural-PreferenceIsolation\",\n",
    "\n",
    "    \"mss\": len(dataset),\n",
    "    \"num_models\": 100,\n",
    "    \"training_epochs\": 200,\n",
    "\n",
    "    \"models_to_use\": [\"ae\"],\n",
    "\n",
    "    \"AE_structure\": {\n",
    "        \"neurons\": [30, 64, 16, 10, 16, 64, 30],\n",
    "        \"activation\": torch.tanh\n",
    "    },\n",
    "}\n",
    "\n",
    "pif = PreferenceIsolationForest(data=dataset, model_name=AE)\n",
    "scores = pif.anomaly_detection(params=params)"
   ]
  },
  {
   "cell_type": "code",
   "execution_count": 32,
   "metadata": {},
   "outputs": [
    {
     "name": "stdout",
     "output_type": "stream",
     "text": [
      "iFor AUC:  0.9781512605042016\n"
     ]
    }
   ],
   "source": [
    "from sklearn.ensemble import IsolationForest as iFor\n",
    "\n",
    "ifor = iFor().fit(dataset)\n",
    "scores_ifor = -ifor.score_samples(dataset)\n",
    "ifor_auc, *_ = make_roc(gt, scores_ifor, show=False, to_plot=False);\n",
    "print(\"iFor AUC: \", ifor_auc)"
   ]
  },
  {
   "cell_type": "code",
   "execution_count": 31,
   "metadata": {},
   "outputs": [
    {
     "name": "stdout",
     "output_type": "stream",
     "text": [
      "PIF AUC:  0.49299719887955185\n"
     ]
    }
   ],
   "source": [
    "pif_auc, *_ = make_roc(gt, scores, show=False, to_plot=False);\n",
    "print(\"PIF AUC: \", pif_auc)"
   ]
  },
  {
   "cell_type": "code",
   "execution_count": 106,
   "metadata": {},
   "outputs": [
    {
     "name": "stdout",
     "output_type": "stream",
     "text": [
      "Epoch 500/500: [==============================] (100%) ETA: 0:00:00.003175 Mean Loss: 981.38777\n"
     ]
    }
   ],
   "source": [
    "from files.classes.neural_models import *\n",
    "\n",
    "nen = NeuralNetwork(neurons=[30, 16, 8, 4, 2, 4, 8, 16, 30], activation=torch.relu)\n",
    "nen.fit(epochs=500, data=dataset[np.random.randint(0, len(dataset), (30,))], print_training=True, bs=32)\n",
    "scores = nen.get_residuals(dataset)"
   ]
  },
  {
   "cell_type": "code",
   "execution_count": 107,
   "metadata": {},
   "outputs": [
    {
     "name": "stdout",
     "output_type": "stream",
     "text": [
      "PIF AUC:  0.9974789915966387\n"
     ]
    }
   ],
   "source": [
    "pif_auc, *_ = make_roc(gt, scores, show=False, to_plot=False);\n",
    "print(\"PIF AUC: \", pif_auc)"
   ]
  },
  {
   "cell_type": "code",
   "execution_count": 116,
   "metadata": {},
   "outputs": [
    {
     "data": {
      "image/png": "[encoded data removed]",
      "text/plain": [
       "<Figure size 432x288 with 1 Axes>"
      ]
     },
     "metadata": {
      "needs_background": "light"
     },
     "output_type": "display_data"
    }
   ],
   "source": [
    "dims = [25,29]\n",
    "preds = nen.predict(dataset)\n",
    "plot(dataset[:,dims], c=~gt.astype(bool))\n",
    "plot(preds[:,dims], c=\"r\")"
   ]
  },
  {
   "cell_type": "code",
   "execution_count": 109,
   "metadata": {},
   "outputs": [
    {
     "data": {
      "image/png": "[encoded data removed]",
      "text/plain": [
       "<Figure size 432x288 with 1 Axes>"
      ]
     },
     "metadata": {
      "needs_background": "light"
     },
     "output_type": "display_data"
    }
   ],
   "source": [
    "x = torch.FloatTensor(dataset.copy())\n",
    "for l in nen.layers[:3]:\n",
    "    x = torch.relu(l(x))\n",
    "preds = x.detach().numpy()\n",
    "\n",
    "plot(preds)"
   ]
  },
  {
   "cell_type": "code",
   "execution_count": 127,
   "metadata": {},
   "outputs": [
    {
     "data": {
      "text/plain": [
       "<matplotlib.legend.Legend at 0x7f0255782ca0>"
      ]
     },
     "execution_count": 127,
     "metadata": {},
     "output_type": "execute_result"
    },
    {
     "data": {
      "image/png": "[encoded data removed]",
      "text/plain": [
       "<Figure size 432x288 with 1 Axes>"
      ]
     },
     "metadata": {
      "needs_background": "light"
     },
     "output_type": "display_data"
    }
   ],
   "source": [
    "path = r\"/home/catonz/Neural-PreferenceIsolation/datasets/shuttle-unsupervised-ad.csv\"\n",
    "\n",
    "dataset2 = read_csv(path)\n",
    "\n",
    "gt2 = dataset2[:,-1]\n",
    "\n",
    "dataset2 = np.delete(dataset2, -1, axis=1)\n",
    "\n",
    "inliers = np.where(gt2 == 1)\n",
    "outliers = np.where(gt2 == 0)\n",
    "\n",
    "x_dim = 4\n",
    "y_dim = 5\n",
    "\n",
    "plt.scatter(dataset2[:,x_dim][inliers],  dataset2[:,y_dim][inliers], label=\"Inliers\")\n",
    "plt.scatter(dataset2[:,x_dim][outliers], dataset2[:,y_dim][outliers], c=\"r\", label=\"Outliers\")\n",
    "plt.legend()"
   ]
  },
  {
   "cell_type": "code",
   "execution_count": 166,
   "metadata": {},
   "outputs": [
    {
     "name": "stdout",
     "output_type": "stream",
     "text": [
      "Anomaly Detection\n",
      "--------------------------------------------------\n",
      "Building RanSac models\n",
      "Iteration 100/100: [==============================] (100%) ETA: 0:00:11.334987\n",
      "--------------------------------------------------\n",
      "Building preference matrix\n",
      "--------------------------------------------------\n",
      "Building Voronoi Forest\n",
      "--------------------------------------------------\n",
      "Done\n"
     ]
    }
   ],
   "source": [
    "params = {\n",
    "    \"root_path\": \"/home/catonz/Neural-PreferenceIsolation\",\n",
    "\n",
    "    \"mss\": 10,\n",
    "    \"num_models\": 100,\n",
    "    \"training_epochs\": 200,\n",
    "\n",
    "    \"models_to_use\": [\"ae\"],\n",
    "\n",
    "    \"AE_structure\": {\n",
    "        \"neurons\": [9, 2, 9],\n",
    "        \"activation\": torch.relu\n",
    "    },\n",
    "}\n",
    "\n",
    "pif = PreferenceIsolationForest(data=dataset, model_name=AE)\n",
    "scores = pif.anomaly_detection(params=params)"
   ]
  },
  {
   "cell_type": "code",
   "execution_count": 167,
   "metadata": {},
   "outputs": [
    {
     "name": "stdout",
     "output_type": "stream",
     "text": [
      "PIF AUC:  0.4861212035385919\n"
     ]
    }
   ],
   "source": [
    "pif_auc, *_ = make_roc(gt2, scores, show=False, to_plot=False);\n",
    "print(\"PIF AUC: \", pif_auc)"
   ]
  },
  {
   "cell_type": "code",
   "execution_count": 168,
   "metadata": {},
   "outputs": [
    {
     "name": "stdout",
     "output_type": "stream",
     "text": [
      "iFor AUC:  0.9972698977336585\n"
     ]
    }
   ],
   "source": [
    "from sklearn.ensemble import IsolationForest as iFor\n",
    "\n",
    "ifor = iFor().fit(dataset2)\n",
    "scores_ifor = -ifor.score_samples(dataset2)\n",
    "ifor_auc, *_ = make_roc(gt2, scores_ifor, show=False, to_plot=False);\n",
    "print(\"iFor AUC: \", ifor_auc)"
   ]
  },
  {
   "cell_type": "code",
   "execution_count": 189,
   "metadata": {},
   "outputs": [
    {
     "name": "stdout",
     "output_type": "stream",
     "text": [
      "Epoch 50/50: [==============================] (100%) ETA: 0:00:00.004600 Mean Loss: 194.06433\n",
      "PIF AUC:  0.992482106213523\n"
     ]
    }
   ],
   "source": [
    "nen = NeuralNetwork(neurons=[9, 2, 9], activation=torch.relu)\n",
    "nen.fit(epochs=50, data=dataset2[np.random.randint(0, len(dataset2), params[\"mss\"])], print_training=True, bs=2)\n",
    "scores = nen.get_residuals(dataset2)\n",
    "pif_auc, *_ = make_roc(gt2, scores, show=False, to_plot=False);\n",
    "print(\"PIF AUC: \", pif_auc)"
   ]
  },
  {
   "cell_type": "code",
   "execution_count": 193,
   "metadata": {},
   "outputs": [
    {
     "name": "stdout",
     "output_type": "stream",
     "text": [
      "PIF AUC:  0.988479233773467\n",
      "PIF AUC:  0.9888616994367551\n",
      "PIF AUC:  0.989069097364045\n",
      "PIF AUC:  0.9888187007820308\n",
      "PIF AUC:  0.9885959622539271\n",
      "PIF AUC:  0.9888213741440619\n",
      "PIF AUC:  0.9888140036599576\n",
      "PIF AUC:  0.989184376732376\n",
      "PIF AUC:  0.9890195027506645\n",
      "PIF AUC:  0.9887575632410022\n",
      "PIF AUC:  0.9885428447989916\n",
      "PIF AUC:  0.9896097411116209\n",
      "PIF AUC:  0.9886760881607839\n",
      "PIF AUC:  0.9890139311643756\n",
      "PIF AUC:  0.98918854917592\n",
      "PIF AUC:  0.9887585376439856\n",
      "PIF AUC:  0.9886977249039514\n",
      "PIF AUC:  0.9885578106294273\n",
      "PIF AUC:  0.9888640979671754\n",
      "PIF AUC:  0.9885831950763767\n",
      "PIF AUC:  0.9885338752946069\n",
      "PIF AUC:  0.9886052565593061\n",
      "PIF AUC:  0.9887728538724324\n",
      "PIF AUC:  0.988669841987814\n",
      "PIF AUC:  0.9885191093417063\n",
      "PIF AUC:  0.9884708389169955\n",
      "PIF AUC:  0.9887869952080361\n",
      "PIF AUC:  0.9886933525828724\n",
      "PIF AUC:  0.9889095201370122\n",
      "PIF AUC:  0.9886062059775975\n",
      "PIF AUC:  0.9887746527702476\n",
      "PIF AUC:  0.9886061560082138\n",
      "PIF AUC:  0.9886334392917459\n",
      "PIF AUC:  0.988536348779103\n",
      "PIF AUC:  0.9886753386200275\n",
      "PIF AUC:  0.9886712411305592\n",
      "PIF AUC:  0.9891271368032807\n",
      "PIF AUC:  0.9886579242897876\n",
      "PIF AUC:  0.9888699443850753\n",
      "PIF AUC:  0.9884782843551755\n",
      "PIF AUC:  0.9887555144962681\n",
      "PIF AUC:  0.9886288421084402\n",
      "PIF AUC:  0.9894286020954961\n",
      "PIF AUC:  0.9887565138839433\n",
      "PIF AUC:  0.988697774873335\n",
      "PIF AUC:  0.9887367759773588\n",
      "PIF AUC:  0.9886844080631796\n",
      "PIF AUC:  0.9887530659964638\n",
      "PIF AUC:  0.9885304523918195\n",
      "PIF AUC:  0.9896079172291136\n",
      "PIF AUC:  0.9885232817852501\n",
      "PIF AUC:  0.988963537040855\n",
      "PIF AUC:  0.9885662804399744\n",
      "PIF AUC:  0.9888536793506619\n",
      "PIF AUC:  0.9886942270470883\n",
      "PIF AUC:  0.9887153391117264\n",
      "PIF AUC:  0.989484068111468\n",
      "PIF AUC:  0.9887100423570478\n",
      "PIF AUC:  0.9886915536850571\n",
      "PIF AUC:  0.9886735397222122\n",
      "PIF AUC:  0.9891690611162541\n",
      "PIF AUC:  0.9887787502597158\n",
      "PIF AUC:  0.9886018836259023\n",
      "PIF AUC:  0.9887395492781571\n",
      "PIF AUC:  0.989044487442544\n",
      "PIF AUC:  0.9889034238721935\n",
      "PIF AUC:  0.9888683703494868\n",
      "PIF AUC:  0.9894777719691146\n",
      "PIF AUC:  0.9887009479292038\n",
      "PIF AUC:  0.9886411845462285\n",
      "PIF AUC:  0.9890333192852739\n",
      "PIF AUC:  0.988597836105818\n",
      "PIF AUC:  0.9885750000974403\n",
      "PIF AUC:  0.9888276203170316\n",
      "PIF AUC:  0.9888945543065764\n",
      "PIF AUC:  0.9890719706036112\n",
      "PIF AUC:  0.9888676957628062\n",
      "PIF AUC:  0.9887448710175276\n",
      "PIF AUC:  0.9880740070558768\n",
      "PIF AUC:  0.9888962532656241\n",
      "PIF AUC:  0.9889591647197762\n",
      "PIF AUC:  0.9884883781706948\n",
      "PIF AUC:  0.9888322674697212\n",
      "PIF AUC:  0.9887831725501784\n",
      "PIF AUC:  0.988902274576367\n",
      "PIF AUC:  0.9886316903633144\n",
      "PIF AUC:  0.9886453569897723\n",
      "PIF AUC:  0.9886175490277107\n",
      "PIF AUC:  0.9885037187715086\n",
      "PIF AUC:  0.9888008367273371\n",
      "PIF AUC:  0.9888335916583909\n",
      "PIF AUC:  0.9883501128858349\n",
      "PIF AUC:  0.9886884305985723\n",
      "PIF AUC:  0.9885536631705754\n",
      "PIF AUC:  0.9888354904949737\n",
      "PIF AUC:  0.9888026855945363\n",
      "PIF AUC:  0.9887867703458091\n",
      "PIF AUC:  0.988985898340087\n",
      "PIF AUC:  0.9887162635453257\n",
      "PIF AUC:  0.9886039073859446\n"
     ]
    }
   ],
   "source": [
    "for nen in pif.models:\n",
    "#     nen = pif.models[1]\n",
    "    scores = nen.get_residuals(dataset2)\n",
    "    pif_auc, *_ = make_roc(gt2, scores, show=False, to_plot=False);\n",
    "    print(\"PIF AUC: \", pif_auc)"
   ]
  },
  {
   "cell_type": "code",
   "execution_count": 194,
   "metadata": {},
   "outputs": [
    {
     "data": {
      "image/png": "[encoded data removed]",
      "text/plain": [
       "<Figure size 432x288 with 1 Axes>"
      ]
     },
     "metadata": {
      "needs_background": "light"
     },
     "output_type": "display_data"
    },
    {
     "data": {
      "image/png": "[encoded data removed]",
      "text/plain": [
       "<Figure size 432x288 with 1 Axes>"
      ]
     },
     "metadata": {
      "needs_background": "light"
     },
     "output_type": "display_data"
    }
   ],
   "source": [
    "x = torch.FloatTensor(dataset.copy())\n",
    "for l in nen.layers[:3]:\n",
    "    x = torch.relu(l(x))\n",
    "preds = x.detach().numpy()\n",
    "\n",
    "plot(preds[inliers])\n",
    "plt.figure()\n",
    "plot(preds[outliers])"
   ]
  }
 ],
 "metadata": {
  "kernelspec": {
   "display_name": "Python 3.8.12 ('torch')",
   "language": "python",
   "name": "python3"
  },
  "language_info": {
   "codemirror_mode": {
    "name": "ipython",
    "version": 3
   },
   "file_extension": ".py",
   "mimetype": "text/x-python",
   "name": "python",
   "nbconvert_exporter": "python",
   "pygments_lexer": "ipython3",
   "version": "3.8.12"
  },
  "orig_nbformat": 4,
  "vscode": {
   "interpreter": {
    "hash": "d61e67d4406f83661a218a7594034be74564666d0640d3900a3e99845865d0f0"
   }
  }
 },
 "nbformat": 4,
 "nbformat_minor": 2
}
